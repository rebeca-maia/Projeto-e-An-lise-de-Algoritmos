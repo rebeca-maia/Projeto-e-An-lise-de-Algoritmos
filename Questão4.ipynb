{
  "nbformat": 4,
  "nbformat_minor": 0,
  "metadata": {
    "colab": {
      "name": "Questão4.ipynb",
      "provenance": [],
      "authorship_tag": "ABX9TyOr2z+GYVYT3izNdM38V+0Y",
      "include_colab_link": true
    },
    "kernelspec": {
      "name": "python3",
      "display_name": "Python 3"
    }
  },
  "cells": [
    {
      "cell_type": "markdown",
      "metadata": {
        "id": "view-in-github",
        "colab_type": "text"
      },
      "source": [
        "<a href=\"https://colab.research.google.com/github/rebeca-maia/Projeto-e-An-lise-de-Algoritmos/blob/master/Quest%C3%A3o4.ipynb\" target=\"_parent\"><img src=\"https://colab.research.google.com/assets/colab-badge.svg\" alt=\"Open In Colab\"/></a>"
      ]
    },
    {
      "cell_type": "code",
      "metadata": {
        "id": "b8Y0xcDAiD-P",
        "colab_type": "code",
        "colab": {
          "base_uri": "https://localhost:8080/",
          "height": 34
        },
        "outputId": "309e4333-abf2-4e1c-b76d-4fb4afe0de2b"
      },
      "source": [
        "#!/usr/bin/env python\n",
        "# coding: utf-8\n",
        "\n",
        "# In[1]:\n",
        "\n",
        "\n",
        "import math\n",
        "\n",
        "\n",
        "# In[2]:\n",
        "\n",
        "\n",
        "def questao_4(n):\n",
        "    if n <=1: return\n",
        "    global l4\n",
        "    l4+=n\n",
        "    questao_4(n//5)\n",
        "    questao_4(n//5)\n",
        "    questao_4(n//6)\n",
        "    questao_4(n//6)\n",
        "    questao_4(n//6)\n",
        "    questao_4(n//10)\n",
        "\n",
        "\n",
        "# Algoritmo 1\n",
        "\n",
        "\n",
        "def main():\n",
        "    i = 0\n",
        "    N = 0\n",
        "    \n",
        "    f= open(\"questao4.txt\",\"w+\")\n",
        "    f.write(\"N\\tT(N)\\tN*log(N,10)\\tN*log(N,6)\\tN*log(N,5)\\n\")\n",
        "    \n",
        "    for i in range(1000,300001,1000):\n",
        "        global l4\n",
        "        l4=0\n",
        "        questao_4(i)\n",
        "        f.write(\"%d\\t%d\\t%d\\t%d\\t%d\\n\"% (i,l4,(int)(i*math.log(i)/math.log(10)),(int)(i*math.log(i)/math.log(6)),(int)(i*math.log(i)/math.log(5))))\n",
        "    f.close()\n",
        "    \n",
        "    print(\"Saída: questao4.txt\")    \n",
        "\n",
        "\n",
        "# In[4]:\n",
        "\n",
        "\n",
        "if __name__=='__main__':\n",
        "    global l4\n",
        "    main()\n",
        "\n",
        "\n",
        "# In[ ]:\n",
        "\n",
        "\n",
        "\n",
        "\n",
        "\n",
        "# In[ ]:\n",
        "\n",
        "\n",
        "\n",
        "\n"
      ],
      "execution_count": 3,
      "outputs": [
        {
          "output_type": "stream",
          "text": [
            "Saída: questao4.txt\n"
          ],
          "name": "stdout"
        }
      ]
    },
    {
      "cell_type": "code",
      "metadata": {
        "id": "DGgyJDxHoa07",
        "colab_type": "code",
        "colab": {
          "base_uri": "https://localhost:8080/",
          "height": 34
        },
        "outputId": "e970bea0-8546-444d-9f3a-713d53c773e8"
      },
      "source": [
        "#!/usr/bin/env python\n",
        "# coding: utf-8\n",
        "\n",
        "# In[1]:\n",
        "\n",
        "\n",
        "import math\n",
        "\n",
        "\n",
        "# In[2]:\n",
        "\n",
        "\n",
        "def algoritmo_2(n):\n",
        "    if n <=1: return\n",
        "    global l2\n",
        "    l2+=n\n",
        "    algoritmo_2(n//5)\n",
        "    algoritmo_2(n//5)\n",
        "    algoritmo_2(n//5)\n",
        "    algoritmo_2(n//6)\n",
        "    algoritmo_2(n//6)\n",
        "    algoritmo_2(n//15)\n",
        "\n",
        "\n",
        "# Algoritmo 2\n",
        "\n",
        "\n",
        "def main():\n",
        "    i = 0\n",
        "    N = 0\n",
        "    \n",
        "    f= open(\"algoritmo2.txt\",\"w+\")\n",
        "    f.write(\"N\\tT(N)\\tN*log(N,15)\\tN*log(N,6)\\tN*log(N,5)\\n\")\n",
        "    \n",
        "    for i in range(1000,300001,1000):\n",
        "        global l2\n",
        "        l2=0\n",
        "        algoritmo_2(i)\n",
        "        f.write(\"%d\\t%d\\t%d\\t%d\\t%d\\n\"% (i,l2,(int)(i*math.log(i)/math.log(15)),(int)(i*math.log(i)/math.log(6)),(int)(i*math.log(i)/math.log(5))))\n",
        "    f.close()\n",
        "    \n",
        "    print(\"Saída: algoritmo2.txt\")    \n",
        "\n",
        "\n",
        "# In[4]:\n",
        "\n",
        "\n",
        "if __name__=='__main__':\n",
        "    global l2\n",
        "    main()\n",
        "\n",
        "\n",
        "\n",
        "\n",
        "\n",
        "\n",
        "\n"
      ],
      "execution_count": 4,
      "outputs": [
        {
          "output_type": "stream",
          "text": [
            "Saída: algoritmo2.txt\n"
          ],
          "name": "stdout"
        }
      ]
    },
    {
      "cell_type": "code",
      "metadata": {
        "id": "OaXZffQWuJUs",
        "colab_type": "code",
        "colab": {
          "base_uri": "https://localhost:8080/",
          "height": 34
        },
        "outputId": "b81084d5-b3ea-4b05-9757-c39bbf7ba25d"
      },
      "source": [
        "#!/usr/bin/env python\n",
        "# coding: utf-8\n",
        "\n",
        "# In[1]:\n",
        "\n",
        "\n",
        "import math\n",
        "\n",
        "\n",
        "# In[2]:\n",
        "\n",
        "\n",
        "def algoritmo_3(n):\n",
        "    if n <=1: return\n",
        "    global l3\n",
        "    l3+=n\n",
        "    algoritmo_3(n//5)\n",
        "    algoritmo_3(n//5)\n",
        "    algoritmo_3(n//5)\n",
        "    algoritmo_3(n//5)\n",
        "    algoritmo_3(n//6)\n",
        "    algoritmo_3(n//30)\n",
        "\n",
        "\n",
        "# Algoritmo 3\n",
        "\n",
        "\n",
        "def main():\n",
        "    i = 0\n",
        "    N = 0\n",
        "    \n",
        "    f= open(\"algoritmo3.txt\",\"w+\")\n",
        "    f.write(\"N\\tT(N)\\tN*log(N,30)\\tN*log(N,6)\\tN*log(N,5)\\n\")\n",
        "    \n",
        "    for i in range(1000,300001,1000):\n",
        "        global l3\n",
        "        l3=0\n",
        "        algoritmo_3(i)\n",
        "        f.write(\"%d\\t%d\\t%d\\t%d\\t%d\\n\"% (i,l3,(int)(i*math.log(i)/math.log(30)),(int)(i*math.log(i)/math.log(6)),(int)(i*math.log(i)/math.log(5))))\n",
        "    f.close()\n",
        "    \n",
        "    print(\"Saída: algoritmo3.txt\")    \n",
        "\n",
        "\n",
        "# In[4]:\n",
        "\n",
        "\n",
        "if __name__=='__main__':\n",
        "    global l3\n",
        "    main()"
      ],
      "execution_count": 5,
      "outputs": [
        {
          "output_type": "stream",
          "text": [
            "Saída: algoritmo3.txt\n"
          ],
          "name": "stdout"
        }
      ]
    },
    {
      "cell_type": "code",
      "metadata": {
        "id": "98Ro1c5Dxo7W",
        "colab_type": "code",
        "colab": {
          "base_uri": "https://localhost:8080/",
          "height": 34
        },
        "outputId": "4640ccce-fb4f-4fe3-cf6f-7d0ca36a03a4"
      },
      "source": [
        "#!/usr/bin/env python\n",
        "# coding: utf-8\n",
        "\n",
        "# In[1]:\n",
        "\n",
        "\n",
        "import math\n",
        "\n",
        "\n",
        "# In[2]:\n",
        "\n",
        "\n",
        "def algoritmo_4(n):\n",
        "    if n <=1: return\n",
        "    global le4\n",
        "    le4+=n\n",
        "    algoritmo_4(n//5)\n",
        "    algoritmo_4(n//6)\n",
        "    algoritmo_4(n//6)\n",
        "    algoritmo_4(n//6)\n",
        "    algoritmo_4(n//6)\n",
        "    algoritmo_4(n//15)\n",
        "    algoritmo_4(n//15)\n",
        "\n",
        "\n",
        "# Algoritmo 4\n",
        "\n",
        "\n",
        "def main():\n",
        "    i = 0\n",
        "    N = 0\n",
        "    \n",
        "    f= open(\"algoritmo4.txt\",\"w+\")\n",
        "    f.write(\"N\\tT(N)\\tN*log(N,15)\\tN*log(N,6)\\tN*log(N,5)\\n\")\n",
        "    \n",
        "    for i in range(1000,300001,1000):\n",
        "        global le4\n",
        "        le4=0\n",
        "        algoritmo_4(i)\n",
        "        f.write(\"%d\\t%d\\t%d\\t%d\\t%d\\n\"% (i,le4,(int)(i*math.log(i)/math.log(15)),(int)(i*math.log(i)/math.log(6)),(int)(i*math.log(i)/math.log(5))))\n",
        "    f.close()\n",
        "    \n",
        "    print(\"Saída: algoritmo4.txt\")    \n",
        "\n",
        "\n",
        "# In[4]:\n",
        "\n",
        "\n",
        "if __name__=='__main__':\n",
        "    global le4\n",
        "    main()"
      ],
      "execution_count": 6,
      "outputs": [
        {
          "output_type": "stream",
          "text": [
            "Saída: algoritmo4.txt\n"
          ],
          "name": "stdout"
        }
      ]
    },
    {
      "cell_type": "code",
      "metadata": {
        "id": "2qBYdyYJzk3f",
        "colab_type": "code",
        "colab": {
          "base_uri": "https://localhost:8080/",
          "height": 34
        },
        "outputId": "715358f2-2940-4280-df71-2ff56043884e"
      },
      "source": [
        "#!/usr/bin/env python\n",
        "# coding: utf-8\n",
        "\n",
        "# In[1]:\n",
        "\n",
        "\n",
        "import math\n",
        "\n",
        "\n",
        "# In[2]:\n",
        "\n",
        "\n",
        "def algoritmo_5(n):\n",
        "    if n <=1: return\n",
        "    global l5\n",
        "    l5+=n\n",
        "    algoritmo_5(n//6)\n",
        "    algoritmo_5(n//6)\n",
        "    algoritmo_5(n//6)\n",
        "    algoritmo_5(n//6)\n",
        "    algoritmo_5(n//6)\n",
        "    algoritmo_5(n//12)\n",
        "    algoritmo_5(n//12)\n",
        "\n",
        "\n",
        "# Algoritmo 5\n",
        "\n",
        "\n",
        "def main():\n",
        "    i = 0\n",
        "    N = 0\n",
        "    \n",
        "    f= open(\"algoritmo5.txt\",\"w+\")\n",
        "    f.write(\"N\\tT(N)\\tN*log(N,12)\\tN*log(N,6)\\n\")\n",
        "    \n",
        "    for i in range(1000,300001,1000):\n",
        "        global l5\n",
        "        l5=0\n",
        "        algoritmo_5(i)\n",
        "        f.write(\"%d\\t%d\\t%d\\t%d\\n\"% (i,l5,(int)(i*math.log(i)/math.log(12)),(int)(i*math.log(i)/math.log(6))))\n",
        "    f.close()\n",
        "    \n",
        "    print(\"Saída: algoritmo5.txt\")    \n",
        "\n",
        "\n",
        "# In[4]:\n",
        "\n",
        "\n",
        "if __name__=='__main__':\n",
        "    global l5\n",
        "    main()"
      ],
      "execution_count": 8,
      "outputs": [
        {
          "output_type": "stream",
          "text": [
            "Saída: algoritmo5.txt\n"
          ],
          "name": "stdout"
        }
      ]
    },
    {
      "cell_type": "code",
      "metadata": {
        "id": "cSK4HhMS3UBF",
        "colab_type": "code",
        "colab": {
          "base_uri": "https://localhost:8080/",
          "height": 34
        },
        "outputId": "813e785a-b165-49ae-f5d2-1e761ce5f155"
      },
      "source": [
        "#!/usr/bin/env python\n",
        "# coding: utf-8\n",
        "\n",
        "# In[1]:\n",
        "\n",
        "\n",
        "import math\n",
        "\n",
        "\n",
        "# In[2]:\n",
        "\n",
        "\n",
        "def algoritmo_6(n):\n",
        "    if n <=1: return\n",
        "    global l6\n",
        "    l6+=n\n",
        "    algoritmo_6(n//5)\n",
        "    algoritmo_6(n//5)\n",
        "    algoritmo_6(n//5)\n",
        "    algoritmo_6(n//5)\n",
        "    algoritmo_6(n//5)\n",
        "\n",
        "\n",
        "\n",
        "# Algoritmo 6\n",
        "\n",
        "\n",
        "def main():\n",
        "    i = 0\n",
        "    N = 0\n",
        "    \n",
        "    f= open(\"algoritmo6.txt\",\"w+\")\n",
        "    f.write(\"N\\tT(N)\\tN*log(N,5)\\n\")\n",
        "    \n",
        "    for i in range(1000,300001,1000):\n",
        "        global l6\n",
        "        l6=0\n",
        "        algoritmo_6(i)\n",
        "        f.write(\"%d\\t%d\\t%d\\n\"% (i,l6,(int)(i*math.log(i)/math.log(5))))\n",
        "    f.close()\n",
        "    \n",
        "    print(\"Saída: algoritmo6.txt\")    \n",
        "\n",
        "\n",
        "# In[4]:\n",
        "\n",
        "\n",
        "if __name__=='__main__':\n",
        "    global l6\n",
        "    main()"
      ],
      "execution_count": 10,
      "outputs": [
        {
          "output_type": "stream",
          "text": [
            "Saída: algoritmo6.txt\n"
          ],
          "name": "stdout"
        }
      ]
    },
    {
      "cell_type": "code",
      "metadata": {
        "id": "wXWA7Ybr6KzP",
        "colab_type": "code",
        "colab": {
          "base_uri": "https://localhost:8080/",
          "height": 34
        },
        "outputId": "30cce6eb-6a0c-4a52-ac99-177dc9bfeb3d"
      },
      "source": [
        "#!/usr/bin/env python\n",
        "# coding: utf-8\n",
        "\n",
        "# In[1]:\n",
        "\n",
        "\n",
        "import math\n",
        "\n",
        "\n",
        "# In[2]:\n",
        "\n",
        "\n",
        "def algoritmo_7(n):\n",
        "    if n <=1: return\n",
        "    global l7\n",
        "    l7+=n\n",
        "    algoritmo_7(n//6)\n",
        "    algoritmo_7(n//6)\n",
        "    algoritmo_7(n//6)\n",
        "    algoritmo_7(n//6)\n",
        "    algoritmo_7(n//6)\n",
        "    algoritmo_7(n//6)\n",
        "\n",
        "\n",
        "\n",
        "# Algoritmo 7\n",
        "\n",
        "\n",
        "def main():\n",
        "    i = 0\n",
        "    N = 0\n",
        "    \n",
        "    f= open(\"algoritmo7.txt\",\"w+\")\n",
        "    f.write(\"N\\tT(N)\\tN*log(N,6)\\n\")\n",
        "    \n",
        "    for i in range(1000,300001,1000):\n",
        "        global l7\n",
        "        l7=0\n",
        "        algoritmo_7(i)\n",
        "        f.write(\"%d\\t%d\\t%d\\n\"% (i,l7,(int)(i*math.log(i)/math.log(6))))\n",
        "    f.close()\n",
        "    \n",
        "    print(\"Saída: algoritmo7.txt\")    \n",
        "\n",
        "\n",
        "# In[4]:\n",
        "\n",
        "\n",
        "if __name__=='__main__':\n",
        "    global l7\n",
        "    main()"
      ],
      "execution_count": 11,
      "outputs": [
        {
          "output_type": "stream",
          "text": [
            "Saída: algoritmo7.txt\n"
          ],
          "name": "stdout"
        }
      ]
    }
  ]
}